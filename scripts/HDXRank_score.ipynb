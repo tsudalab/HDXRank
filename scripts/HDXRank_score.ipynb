{
 "cells": [
  {
   "cell_type": "code",
   "execution_count": 1,
   "metadata": {},
   "outputs": [],
   "source": [
    "import os\n",
    "from utils import *\n",
    "\n",
    "# Set working directory and root paths\n",
    "# remove this line when uploading to github\n",
    "os.chdir('/home/lwang/ProteinComplex_HDX_prediction')\n",
    "root_dir = './example'\n",
    "task_folder = '1UGH_docking'\n",
    "\n",
    "# Load configuration\n",
    "# config_path should be input parameter\n",
    "config_path = f'{root_dir}/{task_folder}/state.json'"
   ]
  },
  {
   "cell_type": "code",
   "execution_count": null,
   "metadata": {},
   "outputs": [],
   "source": [
    "import os\n",
    "from utils import *\n",
    "\n",
    "# code starts here\n",
    "settings, apo_states, complex_states = parse_config(config_path)\n",
    "\n",
    "## calculate HDXRank Score ###\n",
    "# load settings #\n",
    "root_dir = settings['root_dir']\n",
    "task_folder = settings['task_folder']\n",
    "protein_name = settings['protein_name']\n",
    "cluster_id = settings['cluster_id']\n",
    "N_decoys = settings['N_decoys']\n",
    "HDX_fpath = f'{root_dir}/{task_folder}/{settings[\"HDX_file\"]}'\n",
    "pred_cluster = settings['pred_cluster']\n",
    " \n",
    "# get average update from source HDX file #\n",
    "timepoints = settings['timepoints']\n",
    "complex_batch_list = [f'MODEL_{i}_REVISED' for i in range(1, N_decoys+1)] + [f'MODEL_{i}_NATIVE' for i in range(1, N_decoys+1)]\n",
    "\n",
    "# get dockq score#\n",
    "global_list = [f'MODEL_{i}_REVISED.pdb' for i in range(1, N_decoys+1)]\n",
    "native_list = [f'MODEL_{i}_NATIVE.pdb' for i in range(1, N_decoys+1)]\n",
    "model_list = global_list + native_list\n",
    "mapping = settings['chain_mapping']\n",
    "\n",
    "pred_labels = ['Batch','Y_Pred_short','Y_Pred_middle','Y_Pred_long','Chain','Range']"
   ]
  },
  {
   "cell_type": "code",
   "execution_count": 2,
   "metadata": {},
   "outputs": [
    {
     "name": "stdout",
     "output_type": "stream",
     "text": [
      "[('hUNG', 'apo', -9, '1AKZ'), ('UGI', 'apo', 0, '1UGI')]\n",
      "[('hUNG-UGI', 'complex', -9, '1UGH'), ('UGI-hUNG', 'complex', 0, '1UGH')]\n",
      "('hUNG', 'apo', -9, '1AKZ') ('hUNG-UGI', 'complex', -9, '1UGH')\n",
      "Common peptides num: 69\n",
      "('UGI', 'apo', 0, '1UGI') ('UGI-hUNG', 'complex', 0, '1UGH')\n",
      "Common peptides num: 57\n"
     ]
    }
   ],
   "source": [
    "apo_states, complex_states = parse_states_from_json(f'{root_dir}/{task_folder}/state.json')\n",
    "print(apo_states)\n",
    "print(complex_states)\n",
    "\n",
    "hdx_true_diffs = []\n",
    "hdx_epitope_peps = []\n",
    "for apo, complex_ in zip(apo_states, complex_states):\n",
    "    print(apo, complex_)\n",
    "    true_diff, _ = get_true_diff(HDX_fpath, apo, complex_, cluster_id, timepoints)\n",
    "    _, epitope_pep = get_hdx_epitopes(true_diff)\n",
    "    hdx_true_diffs.append(true_diff)\n",
    "    hdx_epitope_peps.append(epitope_pep)"
   ]
  },
  {
   "cell_type": "code",
   "execution_count": 3,
   "metadata": {},
   "outputs": [
    {
     "name": "stdout",
     "output_type": "stream",
     "text": [
      "  Batch  Y_Pred_short  Y_Pred_middle  Y_Pred_long  Chain    Range\n",
      "0  1AKZ      0.267078       0.379798     0.522689      0    90-93\n",
      "1  1AKZ      0.292748       0.424624     0.575526      0    96-99\n",
      "2  1AKZ      0.289542       0.418995     0.609270      0  101-106\n",
      "3  1AKZ      0.285510       0.416634     0.680649      0  102-117\n",
      "4  1AKZ      0.249326       0.385646     0.669758      0  102-118\n",
      "1002\n"
     ]
    }
   ],
   "source": [
    "pred_suffix = 'prediction_HDXRank_global'\n",
    "pred_dir = f'{root_dir}/{task_folder}/predictions'\n",
    "pred_df = parse_predictions(pred_dir, suffix=pred_suffix)\n",
    "print(pred_df.head())\n",
    "print(len(pred_df['Batch'].unique()))"
   ]
  },
  {
   "cell_type": "code",
   "execution_count": 4,
   "metadata": {},
   "outputs": [
    {
     "name": "stderr",
     "output_type": "stream",
     "text": [
      "  0%|          | 0/1000 [00:00<?, ?it/s]"
     ]
    },
    {
     "name": "stderr",
     "output_type": "stream",
     "text": [
      "100%|██████████| 1000/1000 [00:04<00:00, 212.63it/s]\n"
     ]
    }
   ],
   "source": [
    "# Precompute pred_df into a dictionary of DataFrames for faster access\n",
    "pred_df_dict = {batch: group for batch, group in pred_df.groupby('Batch')}\n",
    "\n",
    "# Precompute unique complex batches\n",
    "complex_batch_list = list(pred_df_dict.keys())\n",
    "complex_batch_list = [batch for batch in complex_batch_list if 'MODEL' in batch]\n",
    "\n",
    "HDX_scores = {}\n",
    "y_true_list = []\n",
    "y_pred_list = []\n",
    "for complex_batch in tqdm(complex_batch_list):\n",
    "    y_true, y_pred = prepare_data(pred_df_dict, complex_batch, apo_states, hdx_true_diffs, hdx_epitope_peps=hdx_epitope_peps, pred_cluster=pred_cluster)\n",
    "    if y_true is None:\n",
    "        continue\n",
    "    y_true_list.append(y_true)\n",
    "    y_pred_list.append(y_pred)\n",
    "    HDX_scores[complex_batch] = {'batch': complex_batch, 'HDXRank_score': root_mean_square_error(y_true, y_pred)}\n"
   ]
  },
  {
   "cell_type": "code",
   "execution_count": 5,
   "metadata": {},
   "outputs": [
    {
     "data": {
      "text/html": [
       "<div>\n",
       "<style scoped>\n",
       "    .dataframe tbody tr th:only-of-type {\n",
       "        vertical-align: middle;\n",
       "    }\n",
       "\n",
       "    .dataframe tbody tr th {\n",
       "        vertical-align: top;\n",
       "    }\n",
       "\n",
       "    .dataframe thead th {\n",
       "        text-align: right;\n",
       "    }\n",
       "</style>\n",
       "<table border=\"1\" class=\"dataframe\">\n",
       "  <thead>\n",
       "    <tr style=\"text-align: right;\">\n",
       "      <th></th>\n",
       "      <th>batch</th>\n",
       "      <th>HDXRank_score</th>\n",
       "    </tr>\n",
       "  </thead>\n",
       "  <tbody>\n",
       "    <tr>\n",
       "      <th>111</th>\n",
       "      <td>MODEL_1_REVISED</td>\n",
       "      <td>0.148521</td>\n",
       "    </tr>\n",
       "    <tr>\n",
       "      <th>447</th>\n",
       "      <td>MODEL_502_REVISED</td>\n",
       "      <td>0.153306</td>\n",
       "    </tr>\n",
       "    <tr>\n",
       "      <th>258</th>\n",
       "      <td>MODEL_332_REVISED</td>\n",
       "      <td>0.15348</td>\n",
       "    </tr>\n",
       "    <tr>\n",
       "      <th>577</th>\n",
       "      <td>MODEL_61_REVISED</td>\n",
       "      <td>0.153938</td>\n",
       "    </tr>\n",
       "    <tr>\n",
       "      <th>222</th>\n",
       "      <td>MODEL_2_REVISED</td>\n",
       "      <td>0.15433</td>\n",
       "    </tr>\n",
       "    <tr>\n",
       "      <th>...</th>\n",
       "      <td>...</td>\n",
       "      <td>...</td>\n",
       "    </tr>\n",
       "    <tr>\n",
       "      <th>607</th>\n",
       "      <td>MODEL_647_REVISED</td>\n",
       "      <td>0.205552</td>\n",
       "    </tr>\n",
       "    <tr>\n",
       "      <th>959</th>\n",
       "      <td>MODEL_964_REVISED</td>\n",
       "      <td>0.207597</td>\n",
       "    </tr>\n",
       "    <tr>\n",
       "      <th>926</th>\n",
       "      <td>MODEL_934_REVISED</td>\n",
       "      <td>0.208801</td>\n",
       "    </tr>\n",
       "    <tr>\n",
       "      <th>459</th>\n",
       "      <td>MODEL_513_REVISED</td>\n",
       "      <td>0.209768</td>\n",
       "    </tr>\n",
       "    <tr>\n",
       "      <th>800</th>\n",
       "      <td>MODEL_820_REVISED</td>\n",
       "      <td>0.209997</td>\n",
       "    </tr>\n",
       "  </tbody>\n",
       "</table>\n",
       "<p>1000 rows × 2 columns</p>\n",
       "</div>"
      ],
      "text/plain": [
       "                 batch HDXRank_score\n",
       "111    MODEL_1_REVISED      0.148521\n",
       "447  MODEL_502_REVISED      0.153306\n",
       "258  MODEL_332_REVISED       0.15348\n",
       "577   MODEL_61_REVISED      0.153938\n",
       "222    MODEL_2_REVISED       0.15433\n",
       "..                 ...           ...\n",
       "607  MODEL_647_REVISED      0.205552\n",
       "959  MODEL_964_REVISED      0.207597\n",
       "926  MODEL_934_REVISED      0.208801\n",
       "459  MODEL_513_REVISED      0.209768\n",
       "800  MODEL_820_REVISED      0.209997\n",
       "\n",
       "[1000 rows x 2 columns]"
      ]
     },
     "metadata": {},
     "output_type": "display_data"
    }
   ],
   "source": [
    "score_df = pd.DataFrame(HDX_scores, index=['batch', 'HDXRank_score']).T.reset_index(drop=True)\n",
    "score_df = score_df.sort_values(by='HDXRank_score', ascending=True)\n",
    "display(score_df)"
   ]
  }
 ],
 "metadata": {
  "kernelspec": {
   "display_name": "py3.9",
   "language": "python",
   "name": "python3"
  },
  "language_info": {
   "codemirror_mode": {
    "name": "ipython",
    "version": 3
   },
   "file_extension": ".py",
   "mimetype": "text/x-python",
   "name": "python",
   "nbconvert_exporter": "python",
   "pygments_lexer": "ipython3",
   "version": "3.9.19"
  }
 },
 "nbformat": 4,
 "nbformat_minor": 2
}
